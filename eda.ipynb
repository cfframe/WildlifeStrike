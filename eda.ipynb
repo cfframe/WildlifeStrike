{
 "cells": [
  {
   "cell_type": "markdown",
   "id": "8d39f15d",
   "metadata": {},
   "source": [
    "# EDA for FAA data\n",
    "Original download is an Excel file.\n",
    "Typical running times:\n",
    "- from scratch: 8 mins\n",
    "- from uploaded gzip file: < 30s"
   ]
  },
  {
   "cell_type": "code",
   "execution_count": 1,
   "id": "e228104a",
   "metadata": {},
   "outputs": [
    {
     "name": "stdout",
     "output_type": "stream",
     "text": [
      "Start: 2025-09-16 19:56:04.745848\n"
     ]
    }
   ],
   "source": [
    "import datetime\n",
    "from datetime import datetime, date, timedelta\n",
    "import pandas as pd\n",
    "import matplotlib.pyplot as plt\n",
    "import numpy as np\n",
    "import seaborn as sns\n",
    "\n",
    "start_time = datetime.now()\n",
    "print (f'Start: {start_time}')"
   ]
  },
  {
   "cell_type": "code",
   "execution_count": 2,
   "id": "2ff33c88",
   "metadata": {},
   "outputs": [
    {
     "name": "stdout",
     "output_type": "stream",
     "text": [
      "Loaded raw data from Data/Wildlife strike data.xlsx\n"
     ]
    }
   ],
   "source": [
    "# If Output/df_main1.parquet.gzip exists, load that otherwise load from Excel\n",
    "raw_data_file_path = 'Data/Wildlife strike data.xlsx'\n",
    "parquet_file_path = 'Output/df_main1.parquet.gzip'\n",
    "is_data_loaded_from_Excel = False\n",
    "try:\n",
    "    # Takes less than 1 second to read in approx 30MB of 327K rows\n",
    "    df_main = pd.read_parquet(parquet_file_path)\n",
    "    print(f'Loaded cleaned data from {parquet_file_path}')\n",
    "except FileNotFoundError:\n",
    "    # Takes 6 to 7 minutes to read in approx 140MB of 327K rows\n",
    "    is_data_loaded_from_Excel = True\n",
    "    df_main = pd.read_excel(raw_data_file_path, sheet_name='Sheet1', dtype=str)\n",
    "    print(f'Loaded raw data from {raw_data_file_path}')"
   ]
  },
  {
   "cell_type": "code",
   "execution_count": 3,
   "id": "0f994159",
   "metadata": {},
   "outputs": [],
   "source": [
    "if is_data_loaded_from_Excel:\n",
    "    # Numeric columns\n",
    "    df_main.describe()"
   ]
  },
  {
   "cell_type": "code",
   "execution_count": 4,
   "id": "2d0c2ce3",
   "metadata": {},
   "outputs": [],
   "source": [
    "# Non-numeric columns\n",
    "if is_data_loaded_from_Excel:\n",
    "    df_main.describe(include=['O'])"
   ]
  },
  {
   "cell_type": "code",
   "execution_count": 5,
   "id": "16136bff",
   "metadata": {},
   "outputs": [
    {
     "name": "stdout",
     "output_type": "stream",
     "text": [
      "<class 'pandas.core.frame.DataFrame'>\n",
      "RangeIndex: 327023 entries, 0 to 327022\n",
      "Columns: 101 entries, INDEX_NR to TRANSFER\n",
      "dtypes: object(101)\n",
      "memory usage: 252.0+ MB\n"
     ]
    }
   ],
   "source": [
    "if is_data_loaded_from_Excel:\n",
    "    df_main.info()"
   ]
  },
  {
   "cell_type": "code",
   "execution_count": 6,
   "id": "72a146e0",
   "metadata": {},
   "outputs": [],
   "source": [
    "if is_data_loaded_from_Excel:\n",
    "    # Drop columns of no interest\n",
    "    drop_cols = ['RUNWAY', 'LOCATION', 'OPID', 'REG', 'FLT', 'AMA', 'AMO', 'EMA', 'EMO', 'ENG_1_POS', 'ENG_2_POS', 'ENG_3_POS', 'ENG_4_POS', 'AOS', \n",
    "                'COST_REPAIRS', 'COST_OTHER', 'COST_REPAIRS_INFL_ADJ', 'COST_OTHER_INFL_ADJ', 'INGESTED_OTHER', 'STR_OTHER', 'DAM_OTHER', \n",
    "                'OTHER_SPECIFY', 'EFFECT_OTHER', 'BIRD_BAND_NUMBER', 'SPECIES_ID',\n",
    "                'REMARKS', 'ENROUTE_STATE', 'NR_INJURIES', 'NR_FATALITIES', 'COMMENTS', 'REPORTED_NAME', 'REPORTED_TITLE',\n",
    "                'SOURCE', 'PERSON', 'LUPDATE', 'TRANSFER'\n",
    "    ]\n",
    "    for col in drop_cols:\n",
    "        if col in df_main.columns:\n",
    "            df_main.drop(columns=[col], inplace=True)\n",
    "\n",
    "    df_main.describe()"
   ]
  },
  {
   "cell_type": "code",
   "execution_count": 7,
   "id": "644f0643",
   "metadata": {},
   "outputs": [],
   "source": [
    "if is_data_loaded_from_Excel:\n",
    "    df_main.describe(include=['O'])"
   ]
  },
  {
   "cell_type": "code",
   "execution_count": 8,
   "id": "753af02c",
   "metadata": {},
   "outputs": [
    {
     "name": "stdout",
     "output_type": "stream",
     "text": [
      "<class 'pandas.core.frame.DataFrame'>\n",
      "RangeIndex: 327023 entries, 0 to 327022\n",
      "Data columns (total 65 columns):\n",
      " #   Column                Non-Null Count   Dtype \n",
      "---  ------                --------------   ----- \n",
      " 0   INDEX_NR              327023 non-null  object\n",
      " 1   INCIDENT_DATE         327023 non-null  object\n",
      " 2   INCIDENT_MONTH        327023 non-null  object\n",
      " 3   INCIDENT_YEAR         327023 non-null  object\n",
      " 4   TIME                  205335 non-null  object\n",
      " 5   TIME_OF_DAY           184303 non-null  object\n",
      " 6   AIRPORT_ID            327022 non-null  object\n",
      " 7   AIRPORT               327023 non-null  object\n",
      " 8   AIRPORT_LATITUDE      284202 non-null  object\n",
      " 9   AIRPORT_LONGITUDE     284199 non-null  object\n",
      " 10  STATE                 284202 non-null  object\n",
      " 11  FAAREGION             284202 non-null  object\n",
      " 12  OPERATOR              327023 non-null  object\n",
      " 13  AIRCRAFT              327023 non-null  object\n",
      " 14  AC_CLASS              233808 non-null  object\n",
      " 15  AC_MASS               233695 non-null  object\n",
      " 16  TYPE_ENG              233315 non-null  object\n",
      " 17  NUM_ENGS              233414 non-null  object\n",
      " 18  PHASE_OF_FLIGHT       198589 non-null  object\n",
      " 19  HEIGHT                164217 non-null  object\n",
      " 20  SPEED                 102733 non-null  object\n",
      " 21  DISTANCE              216454 non-null  object\n",
      " 22  SKY                   155063 non-null  object\n",
      " 23  PRECIPITATION         12207 non-null   object\n",
      " 24  INDICATED_DAMAGE      327023 non-null  object\n",
      " 25  DAMAGE_LEVEL          211253 non-null  object\n",
      " 26  STR_RAD               327023 non-null  object\n",
      " 27  DAM_RAD               327023 non-null  object\n",
      " 28  STR_WINDSHLD          327023 non-null  object\n",
      " 29  DAM_WINDSHLD          327023 non-null  object\n",
      " 30  STR_NOSE              327023 non-null  object\n",
      " 31  DAM_NOSE              327023 non-null  object\n",
      " 32  STR_ENG1              327023 non-null  object\n",
      " 33  DAM_ENG1              327023 non-null  object\n",
      " 34  ING_ENG1              327023 non-null  object\n",
      " 35  STR_ENG2              327023 non-null  object\n",
      " 36  DAM_ENG2              327023 non-null  object\n",
      " 37  ING_ENG2              327023 non-null  object\n",
      " 38  STR_ENG3              327023 non-null  object\n",
      " 39  DAM_ENG3              327023 non-null  object\n",
      " 40  ING_ENG3              327023 non-null  object\n",
      " 41  STR_ENG4              327023 non-null  object\n",
      " 42  DAM_ENG4              327023 non-null  object\n",
      " 43  ING_ENG4              327023 non-null  object\n",
      " 44  STR_PROP              327023 non-null  object\n",
      " 45  DAM_PROP              327023 non-null  object\n",
      " 46  STR_WING_ROT          327023 non-null  object\n",
      " 47  DAM_WING_ROT          327023 non-null  object\n",
      " 48  STR_FUSE              327023 non-null  object\n",
      " 49  DAM_FUSE              327023 non-null  object\n",
      " 50  STR_LG                327023 non-null  object\n",
      " 51  DAM_LG                327023 non-null  object\n",
      " 52  STR_TAIL              327023 non-null  object\n",
      " 53  DAM_TAIL              327023 non-null  object\n",
      " 54  STR_LGHTS             327023 non-null  object\n",
      " 55  DAM_LGHTS             327023 non-null  object\n",
      " 56  EFFECT                15121 non-null   object\n",
      " 57  SPECIES               327023 non-null  object\n",
      " 58  OUT_OF_RANGE_SPECIES  327023 non-null  object\n",
      " 59  REMAINS_COLLECTED     327023 non-null  object\n",
      " 60  REMAINS_SENT          327023 non-null  object\n",
      " 61  WARNED                327023 non-null  object\n",
      " 62  NUM_SEEN              105673 non-null  object\n",
      " 63  NUM_STRUCK            326311 non-null  object\n",
      " 64  SIZE                  294118 non-null  object\n",
      "dtypes: object(65)\n",
      "memory usage: 162.2+ MB\n"
     ]
    }
   ],
   "source": [
    "if is_data_loaded_from_Excel:\n",
    "    df_main.info()"
   ]
  },
  {
   "cell_type": "code",
   "execution_count": 9,
   "id": "3aa4fabb",
   "metadata": {},
   "outputs": [],
   "source": [
    "if is_data_loaded_from_Excel:\n",
    "    # Drop rows with non-numeric LATITUDE or LONGITUDE\n",
    "    df_main = df_main[pd.to_numeric(df_main['AIRPORT_LATITUDE'], errors='coerce').notnull()]\n",
    "    df_main = df_main[pd.to_numeric(df_main['AIRPORT_LONGITUDE'], errors='coerce').notnull()]\n",
    "    # Convert NUM_SEEN and NUM_STRUCK to strings\n",
    "    df_main['NUM_SEEN'] = df_main['NUM_SEEN'].astype(str)\n",
    "    df_main['NUM_STRUCK'] = df_main['NUM_STRUCK'].astype(str)"
   ]
  },
  {
   "cell_type": "code",
   "execution_count": 10,
   "id": "5dd95156",
   "metadata": {},
   "outputs": [
    {
     "name": "stdout",
     "output_type": "stream",
     "text": [
      "                 <class 'str'>  <class 'float'>\n",
      "TIME                    184275            99919\n",
      "TIME_OF_DAY             174661           109533\n",
      "AC_CLASS                191346            92848\n",
      "AC_MASS                 191257            92937\n",
      "TYPE_ENG                190934            93260\n",
      "NUM_ENGS                191039            93155\n",
      "PHASE_OF_FLIGHT         191912            92282\n",
      "HEIGHT                  158686           125508\n",
      "SPEED                    97887           186307\n",
      "DISTANCE                216084            68110\n",
      "SKY                     146189           138005\n",
      "PRECIPITATION            11867           272327\n",
      "DAMAGE_LEVEL            170988           113206\n",
      "EFFECT                   12996           271198\n",
      "SIZE                    257562            26632\n"
     ]
    }
   ],
   "source": [
    "if is_data_loaded_from_Excel:\n",
    "    # Find columns with inconsistent data types. Ignore columns with all numeric or all non-numeric values. \n",
    "    # Ignore columns with mixed types but no numeric values. Ignore columns with missing values but otherwise consistent types.\n",
    "    # Get counts of different types vs columns.\n",
    "    type_counts = {}\n",
    "    for col in df_main.columns:\n",
    "        types = df_main[col].apply(lambda x: type(x)).value_counts()\n",
    "        if len(types) > 1 and not (types.index.isin([int, float]).all() or types.index.isin([str]).all() or (types.index.isin([str, type(None)]).all()) or (types.index.isin([int, float, type(None)]).all())):\n",
    "            type_counts[col] = types\n",
    "    type_counts_df = pd.DataFrame(type_counts).fillna(0).astype(int)\n",
    "\n",
    "    # Transpose for display purposes.\n",
    "    type_counts_df = type_counts_df.T\n",
    "\n",
    "    print(type_counts_df)"
   ]
  },
  {
   "cell_type": "code",
   "execution_count": 11,
   "id": "bc3d7e2d",
   "metadata": {},
   "outputs": [
    {
     "name": "stdout",
     "output_type": "stream",
     "text": [
      "                 Missing Count  Missing Percent\n",
      "TIME                     99919             35.2\n",
      "TIME_OF_DAY             109533             38.5\n",
      "AC_CLASS                 92848             32.7\n",
      "AC_MASS                  92937             32.7\n",
      "TYPE_ENG                 93260             32.8\n",
      "NUM_ENGS                 93155             32.8\n",
      "PHASE_OF_FLIGHT          92282             32.5\n",
      "HEIGHT                  125508             44.2\n",
      "SPEED                   186307             65.6\n",
      "DISTANCE                 68110             24.0\n",
      "SKY                     138005             48.6\n",
      "PRECIPITATION           272327             95.8\n",
      "DAMAGE_LEVEL            113206             39.8\n",
      "EFFECT                  271198             95.4\n",
      "SIZE                     26632              9.4\n"
     ]
    }
   ],
   "source": [
    "if is_data_loaded_from_Excel:\n",
    "    # Identify columns with missing values. Give counts and percentages to 1 decimal place.\n",
    "    missing_counts = df_main.isnull().sum()\n",
    "    missing_percent = ( missing_counts / len(df_main) * 100 ).round(1)\n",
    "    missing_df = pd.DataFrame({'Missing Count': missing_counts, 'Missing Percent': missing_percent})\n",
    "    missing_df = missing_df[missing_df['Missing Count'] > 0]\n",
    "    print(missing_df)\n"
   ]
  },
  {
   "cell_type": "code",
   "execution_count": 12,
   "id": "da023a3f",
   "metadata": {},
   "outputs": [
    {
     "name": "stdout",
     "output_type": "stream",
     "text": [
      "Dropped columns with > 50% missing values: ['SPEED', 'PRECIPITATION', 'EFFECT']\n"
     ]
    }
   ],
   "source": [
    "if is_data_loaded_from_Excel:\n",
    "    # Remove columns with more than 50% missing values\n",
    "    cols_to_drop = missing_df[missing_df['Missing Percent'] > 50].index\n",
    "    df_main.drop(columns=cols_to_drop, inplace=True)\n",
    "    print(f'Dropped columns with > 50% missing values: {list(cols_to_drop)}')"
   ]
  },
  {
   "cell_type": "code",
   "execution_count": 13,
   "id": "3a571799",
   "metadata": {},
   "outputs": [
    {
     "name": "stdout",
     "output_type": "stream",
     "text": [
      "<class 'pandas.core.frame.DataFrame'>\n",
      "Index: 284194 entries, 0 to 327022\n",
      "Data columns (total 62 columns):\n",
      " #   Column                Non-Null Count   Dtype \n",
      "---  ------                --------------   ----- \n",
      " 0   INDEX_NR              284194 non-null  object\n",
      " 1   INCIDENT_DATE         284194 non-null  object\n",
      " 2   INCIDENT_MONTH        284194 non-null  object\n",
      " 3   INCIDENT_YEAR         284194 non-null  object\n",
      " 4   TIME                  184275 non-null  object\n",
      " 5   TIME_OF_DAY           174661 non-null  object\n",
      " 6   AIRPORT_ID            284194 non-null  object\n",
      " 7   AIRPORT               284194 non-null  object\n",
      " 8   AIRPORT_LATITUDE      284194 non-null  object\n",
      " 9   AIRPORT_LONGITUDE     284194 non-null  object\n",
      " 10  STATE                 284194 non-null  object\n",
      " 11  FAAREGION             284194 non-null  object\n",
      " 12  OPERATOR              284194 non-null  object\n",
      " 13  AIRCRAFT              284194 non-null  object\n",
      " 14  AC_CLASS              191346 non-null  object\n",
      " 15  AC_MASS               191257 non-null  object\n",
      " 16  TYPE_ENG              190934 non-null  object\n",
      " 17  NUM_ENGS              191039 non-null  object\n",
      " 18  PHASE_OF_FLIGHT       191912 non-null  object\n",
      " 19  HEIGHT                158686 non-null  object\n",
      " 20  DISTANCE              216084 non-null  object\n",
      " 21  SKY                   146189 non-null  object\n",
      " 22  INDICATED_DAMAGE      284194 non-null  object\n",
      " 23  DAMAGE_LEVEL          170988 non-null  object\n",
      " 24  STR_RAD               284194 non-null  object\n",
      " 25  DAM_RAD               284194 non-null  object\n",
      " 26  STR_WINDSHLD          284194 non-null  object\n",
      " 27  DAM_WINDSHLD          284194 non-null  object\n",
      " 28  STR_NOSE              284194 non-null  object\n",
      " 29  DAM_NOSE              284194 non-null  object\n",
      " 30  STR_ENG1              284194 non-null  object\n",
      " 31  DAM_ENG1              284194 non-null  object\n",
      " 32  ING_ENG1              284194 non-null  object\n",
      " 33  STR_ENG2              284194 non-null  object\n",
      " 34  DAM_ENG2              284194 non-null  object\n",
      " 35  ING_ENG2              284194 non-null  object\n",
      " 36  STR_ENG3              284194 non-null  object\n",
      " 37  DAM_ENG3              284194 non-null  object\n",
      " 38  ING_ENG3              284194 non-null  object\n",
      " 39  STR_ENG4              284194 non-null  object\n",
      " 40  DAM_ENG4              284194 non-null  object\n",
      " 41  ING_ENG4              284194 non-null  object\n",
      " 42  STR_PROP              284194 non-null  object\n",
      " 43  DAM_PROP              284194 non-null  object\n",
      " 44  STR_WING_ROT          284194 non-null  object\n",
      " 45  DAM_WING_ROT          284194 non-null  object\n",
      " 46  STR_FUSE              284194 non-null  object\n",
      " 47  DAM_FUSE              284194 non-null  object\n",
      " 48  STR_LG                284194 non-null  object\n",
      " 49  DAM_LG                284194 non-null  object\n",
      " 50  STR_TAIL              284194 non-null  object\n",
      " 51  DAM_TAIL              284194 non-null  object\n",
      " 52  STR_LGHTS             284194 non-null  object\n",
      " 53  DAM_LGHTS             284194 non-null  object\n",
      " 54  SPECIES               284194 non-null  object\n",
      " 55  OUT_OF_RANGE_SPECIES  284194 non-null  object\n",
      " 56  REMAINS_COLLECTED     284194 non-null  object\n",
      " 57  REMAINS_SENT          284194 non-null  object\n",
      " 58  WARNED                284194 non-null  object\n",
      " 59  NUM_SEEN              284194 non-null  object\n",
      " 60  NUM_STRUCK            284194 non-null  object\n",
      " 61  SIZE                  257562 non-null  object\n",
      "dtypes: object(62)\n",
      "memory usage: 136.6+ MB\n"
     ]
    }
   ],
   "source": [
    "# Final checks of data (place all other data cleaning above this line)\n",
    "# Check 1/3\n",
    "df_main.info()"
   ]
  },
  {
   "cell_type": "code",
   "execution_count": 14,
   "id": "14c6e3d7",
   "metadata": {},
   "outputs": [
    {
     "data": {
      "application/vnd.microsoft.datawrangler.viewer.v0+json": {
       "columns": [
        {
         "name": "index",
         "rawType": "object",
         "type": "string"
        },
        {
         "name": "INDEX_NR",
         "rawType": "object",
         "type": "unknown"
        },
        {
         "name": "INCIDENT_DATE",
         "rawType": "object",
         "type": "unknown"
        },
        {
         "name": "INCIDENT_MONTH",
         "rawType": "object",
         "type": "unknown"
        },
        {
         "name": "INCIDENT_YEAR",
         "rawType": "object",
         "type": "unknown"
        },
        {
         "name": "TIME",
         "rawType": "object",
         "type": "unknown"
        },
        {
         "name": "TIME_OF_DAY",
         "rawType": "object",
         "type": "unknown"
        },
        {
         "name": "AIRPORT_ID",
         "rawType": "object",
         "type": "unknown"
        },
        {
         "name": "AIRPORT",
         "rawType": "object",
         "type": "unknown"
        },
        {
         "name": "AIRPORT_LATITUDE",
         "rawType": "object",
         "type": "unknown"
        },
        {
         "name": "AIRPORT_LONGITUDE",
         "rawType": "object",
         "type": "unknown"
        },
        {
         "name": "STATE",
         "rawType": "object",
         "type": "unknown"
        },
        {
         "name": "FAAREGION",
         "rawType": "object",
         "type": "unknown"
        },
        {
         "name": "OPERATOR",
         "rawType": "object",
         "type": "unknown"
        },
        {
         "name": "AIRCRAFT",
         "rawType": "object",
         "type": "unknown"
        },
        {
         "name": "AC_CLASS",
         "rawType": "object",
         "type": "unknown"
        },
        {
         "name": "AC_MASS",
         "rawType": "object",
         "type": "unknown"
        },
        {
         "name": "TYPE_ENG",
         "rawType": "object",
         "type": "unknown"
        },
        {
         "name": "NUM_ENGS",
         "rawType": "object",
         "type": "unknown"
        },
        {
         "name": "PHASE_OF_FLIGHT",
         "rawType": "object",
         "type": "unknown"
        },
        {
         "name": "HEIGHT",
         "rawType": "object",
         "type": "unknown"
        },
        {
         "name": "DISTANCE",
         "rawType": "object",
         "type": "unknown"
        },
        {
         "name": "SKY",
         "rawType": "object",
         "type": "unknown"
        },
        {
         "name": "INDICATED_DAMAGE",
         "rawType": "object",
         "type": "unknown"
        },
        {
         "name": "DAMAGE_LEVEL",
         "rawType": "object",
         "type": "unknown"
        },
        {
         "name": "STR_RAD",
         "rawType": "object",
         "type": "unknown"
        },
        {
         "name": "DAM_RAD",
         "rawType": "object",
         "type": "unknown"
        },
        {
         "name": "STR_WINDSHLD",
         "rawType": "object",
         "type": "unknown"
        },
        {
         "name": "DAM_WINDSHLD",
         "rawType": "object",
         "type": "unknown"
        },
        {
         "name": "STR_NOSE",
         "rawType": "object",
         "type": "unknown"
        },
        {
         "name": "DAM_NOSE",
         "rawType": "object",
         "type": "unknown"
        },
        {
         "name": "STR_ENG1",
         "rawType": "object",
         "type": "unknown"
        },
        {
         "name": "DAM_ENG1",
         "rawType": "object",
         "type": "unknown"
        },
        {
         "name": "ING_ENG1",
         "rawType": "object",
         "type": "unknown"
        },
        {
         "name": "STR_ENG2",
         "rawType": "object",
         "type": "unknown"
        },
        {
         "name": "DAM_ENG2",
         "rawType": "object",
         "type": "unknown"
        },
        {
         "name": "ING_ENG2",
         "rawType": "object",
         "type": "unknown"
        },
        {
         "name": "STR_ENG3",
         "rawType": "object",
         "type": "unknown"
        },
        {
         "name": "DAM_ENG3",
         "rawType": "object",
         "type": "unknown"
        },
        {
         "name": "ING_ENG3",
         "rawType": "object",
         "type": "unknown"
        },
        {
         "name": "STR_ENG4",
         "rawType": "object",
         "type": "unknown"
        },
        {
         "name": "DAM_ENG4",
         "rawType": "object",
         "type": "unknown"
        },
        {
         "name": "ING_ENG4",
         "rawType": "object",
         "type": "unknown"
        },
        {
         "name": "STR_PROP",
         "rawType": "object",
         "type": "unknown"
        },
        {
         "name": "DAM_PROP",
         "rawType": "object",
         "type": "unknown"
        },
        {
         "name": "STR_WING_ROT",
         "rawType": "object",
         "type": "unknown"
        },
        {
         "name": "DAM_WING_ROT",
         "rawType": "object",
         "type": "unknown"
        },
        {
         "name": "STR_FUSE",
         "rawType": "object",
         "type": "unknown"
        },
        {
         "name": "DAM_FUSE",
         "rawType": "object",
         "type": "unknown"
        },
        {
         "name": "STR_LG",
         "rawType": "object",
         "type": "unknown"
        },
        {
         "name": "DAM_LG",
         "rawType": "object",
         "type": "unknown"
        },
        {
         "name": "STR_TAIL",
         "rawType": "object",
         "type": "unknown"
        },
        {
         "name": "DAM_TAIL",
         "rawType": "object",
         "type": "unknown"
        },
        {
         "name": "STR_LGHTS",
         "rawType": "object",
         "type": "unknown"
        },
        {
         "name": "DAM_LGHTS",
         "rawType": "object",
         "type": "unknown"
        },
        {
         "name": "SPECIES",
         "rawType": "object",
         "type": "unknown"
        },
        {
         "name": "OUT_OF_RANGE_SPECIES",
         "rawType": "object",
         "type": "unknown"
        },
        {
         "name": "REMAINS_COLLECTED",
         "rawType": "object",
         "type": "unknown"
        },
        {
         "name": "REMAINS_SENT",
         "rawType": "object",
         "type": "unknown"
        },
        {
         "name": "WARNED",
         "rawType": "object",
         "type": "unknown"
        },
        {
         "name": "NUM_SEEN",
         "rawType": "object",
         "type": "unknown"
        },
        {
         "name": "NUM_STRUCK",
         "rawType": "object",
         "type": "unknown"
        },
        {
         "name": "SIZE",
         "rawType": "object",
         "type": "unknown"
        }
       ],
       "ref": "eb167c72-1e6d-4cd6-99be-39c1f9251468",
       "rows": [
        [
         "count",
         "284194",
         "284194",
         "284194",
         "284194",
         "184275",
         "174661",
         "284194",
         "284194",
         "284194",
         "284194",
         "284194",
         "284194",
         "284194",
         "284194",
         "191346",
         "191257",
         "190934",
         "191039",
         "191912",
         "158686",
         "216084",
         "146189",
         "284194",
         "170988",
         "284194",
         "284194",
         "284194",
         "284194",
         "284194",
         "284194",
         "284194",
         "284194",
         "284194",
         "284194",
         "284194",
         "284194",
         "284194",
         "284194",
         "284194",
         "284194",
         "284194",
         "284194",
         "284194",
         "284194",
         "284194",
         "284194",
         "284194",
         "284194",
         "284194",
         "284194",
         "284194",
         "284194",
         "284194",
         "284194",
         "284194",
         "284194",
         "284194",
         "284194",
         "284194",
         "284194",
         "284194",
         "257562"
        ],
        [
         "unique",
         "284194",
         "12915",
         "12",
         "36",
         "1441",
         "4",
         "2716",
         "2716",
         "2710",
         "2712",
         "67",
         "10",
         "617",
         "592",
         "5",
         "5",
         "7",
         "4",
         "11",
         "700",
         "233",
         "3",
         "2",
         "5",
         "2",
         "2",
         "2",
         "2",
         "2",
         "2",
         "2",
         "2",
         "2",
         "2",
         "2",
         "2",
         "2",
         "2",
         "2",
         "2",
         "2",
         "2",
         "2",
         "2",
         "2",
         "2",
         "2",
         "2",
         "2",
         "2",
         "2",
         "2",
         "2",
         "2",
         "896",
         "2",
         "2",
         "2",
         "3",
         "5",
         "5",
         "3"
        ],
        [
         "top",
         "608242",
         "2024-07-23",
         "8",
         "2024",
         "     ",
         "Day",
         "KDEN",
         "DENVER INTL AIRPORT",
         "39.85841",
         "-104.667",
         "TX",
         "ASO",
         "UNKNOWN",
         "UNKNOWN",
         "A  ",
         "4",
         "D",
         "2",
         "Approach",
         "0",
         "0",
         "No Cloud",
         "0",
         "N",
         "0",
         "0",
         "0",
         "0",
         "0",
         "0",
         "0",
         "0",
         "0",
         "0",
         "0",
         "0",
         "0",
         "0",
         "0",
         "0",
         "0",
         "0",
         "0",
         "0",
         "0",
         "0",
         "0",
         "0",
         "0",
         "0",
         "0",
         "0",
         "0",
         "0",
         "Unknown bird - small",
         "0",
         "1",
         "0",
         "Unknown",
         "nan",
         "1",
         "Small"
        ],
        [
         "freq",
         "1",
         "130",
         "40673",
         "18271",
         "14196",
         "108129",
         "10997",
         "10997",
         "10997",
         "10997",
         "28958",
         "61742",
         "92348",
         "92517",
         "190192",
         "133953",
         "162047",
         "167099",
         "83972",
         "70080",
         "188987",
         "70409",
         "267350",
         "154147",
         "258187",
         "282303",
         "250095",
         "283347",
         "251664",
         "282687",
         "273345",
         "281599",
         "283095",
         "275386",
         "282004",
         "283134",
         "283815",
         "284060",
         "284174",
         "284015",
         "284139",
         "284184",
         "279464",
         "283552",
         "258340",
         "279193",
         "260182",
         "283180",
         "272552",
         "282960",
         "281819",
         "283453",
         "283000",
         "283347",
         "47171",
         "284032",
         "155007",
         "244675",
         "169150",
         "182438",
         "249781",
         "177571"
        ]
       ],
       "shape": {
        "columns": 62,
        "rows": 4
       }
      },
      "text/html": [
       "<div>\n",
       "<style scoped>\n",
       "    .dataframe tbody tr th:only-of-type {\n",
       "        vertical-align: middle;\n",
       "    }\n",
       "\n",
       "    .dataframe tbody tr th {\n",
       "        vertical-align: top;\n",
       "    }\n",
       "\n",
       "    .dataframe thead th {\n",
       "        text-align: right;\n",
       "    }\n",
       "</style>\n",
       "<table border=\"1\" class=\"dataframe\">\n",
       "  <thead>\n",
       "    <tr style=\"text-align: right;\">\n",
       "      <th></th>\n",
       "      <th>INDEX_NR</th>\n",
       "      <th>INCIDENT_DATE</th>\n",
       "      <th>INCIDENT_MONTH</th>\n",
       "      <th>INCIDENT_YEAR</th>\n",
       "      <th>TIME</th>\n",
       "      <th>TIME_OF_DAY</th>\n",
       "      <th>AIRPORT_ID</th>\n",
       "      <th>AIRPORT</th>\n",
       "      <th>AIRPORT_LATITUDE</th>\n",
       "      <th>AIRPORT_LONGITUDE</th>\n",
       "      <th>...</th>\n",
       "      <th>STR_LGHTS</th>\n",
       "      <th>DAM_LGHTS</th>\n",
       "      <th>SPECIES</th>\n",
       "      <th>OUT_OF_RANGE_SPECIES</th>\n",
       "      <th>REMAINS_COLLECTED</th>\n",
       "      <th>REMAINS_SENT</th>\n",
       "      <th>WARNED</th>\n",
       "      <th>NUM_SEEN</th>\n",
       "      <th>NUM_STRUCK</th>\n",
       "      <th>SIZE</th>\n",
       "    </tr>\n",
       "  </thead>\n",
       "  <tbody>\n",
       "    <tr>\n",
       "      <th>count</th>\n",
       "      <td>284194</td>\n",
       "      <td>284194</td>\n",
       "      <td>284194</td>\n",
       "      <td>284194</td>\n",
       "      <td>184275</td>\n",
       "      <td>174661</td>\n",
       "      <td>284194</td>\n",
       "      <td>284194</td>\n",
       "      <td>284194</td>\n",
       "      <td>284194</td>\n",
       "      <td>...</td>\n",
       "      <td>284194</td>\n",
       "      <td>284194</td>\n",
       "      <td>284194</td>\n",
       "      <td>284194</td>\n",
       "      <td>284194</td>\n",
       "      <td>284194</td>\n",
       "      <td>284194</td>\n",
       "      <td>284194</td>\n",
       "      <td>284194</td>\n",
       "      <td>257562</td>\n",
       "    </tr>\n",
       "    <tr>\n",
       "      <th>unique</th>\n",
       "      <td>284194</td>\n",
       "      <td>12915</td>\n",
       "      <td>12</td>\n",
       "      <td>36</td>\n",
       "      <td>1441</td>\n",
       "      <td>4</td>\n",
       "      <td>2716</td>\n",
       "      <td>2716</td>\n",
       "      <td>2710</td>\n",
       "      <td>2712</td>\n",
       "      <td>...</td>\n",
       "      <td>2</td>\n",
       "      <td>2</td>\n",
       "      <td>896</td>\n",
       "      <td>2</td>\n",
       "      <td>2</td>\n",
       "      <td>2</td>\n",
       "      <td>3</td>\n",
       "      <td>5</td>\n",
       "      <td>5</td>\n",
       "      <td>3</td>\n",
       "    </tr>\n",
       "    <tr>\n",
       "      <th>top</th>\n",
       "      <td>608242</td>\n",
       "      <td>2024-07-23</td>\n",
       "      <td>8</td>\n",
       "      <td>2024</td>\n",
       "      <td></td>\n",
       "      <td>Day</td>\n",
       "      <td>KDEN</td>\n",
       "      <td>DENVER INTL AIRPORT</td>\n",
       "      <td>39.85841</td>\n",
       "      <td>-104.667</td>\n",
       "      <td>...</td>\n",
       "      <td>0</td>\n",
       "      <td>0</td>\n",
       "      <td>Unknown bird - small</td>\n",
       "      <td>0</td>\n",
       "      <td>1</td>\n",
       "      <td>0</td>\n",
       "      <td>Unknown</td>\n",
       "      <td>nan</td>\n",
       "      <td>1</td>\n",
       "      <td>Small</td>\n",
       "    </tr>\n",
       "    <tr>\n",
       "      <th>freq</th>\n",
       "      <td>1</td>\n",
       "      <td>130</td>\n",
       "      <td>40673</td>\n",
       "      <td>18271</td>\n",
       "      <td>14196</td>\n",
       "      <td>108129</td>\n",
       "      <td>10997</td>\n",
       "      <td>10997</td>\n",
       "      <td>10997</td>\n",
       "      <td>10997</td>\n",
       "      <td>...</td>\n",
       "      <td>283000</td>\n",
       "      <td>283347</td>\n",
       "      <td>47171</td>\n",
       "      <td>284032</td>\n",
       "      <td>155007</td>\n",
       "      <td>244675</td>\n",
       "      <td>169150</td>\n",
       "      <td>182438</td>\n",
       "      <td>249781</td>\n",
       "      <td>177571</td>\n",
       "    </tr>\n",
       "  </tbody>\n",
       "</table>\n",
       "<p>4 rows × 62 columns</p>\n",
       "</div>"
      ],
      "text/plain": [
       "       INDEX_NR INCIDENT_DATE INCIDENT_MONTH INCIDENT_YEAR    TIME  \\\n",
       "count    284194        284194         284194        284194  184275   \n",
       "unique   284194         12915             12            36    1441   \n",
       "top      608242    2024-07-23              8          2024           \n",
       "freq          1           130          40673         18271   14196   \n",
       "\n",
       "       TIME_OF_DAY AIRPORT_ID              AIRPORT AIRPORT_LATITUDE  \\\n",
       "count       174661     284194               284194           284194   \n",
       "unique           4       2716                 2716             2710   \n",
       "top            Day       KDEN  DENVER INTL AIRPORT         39.85841   \n",
       "freq        108129      10997                10997            10997   \n",
       "\n",
       "       AIRPORT_LONGITUDE  ... STR_LGHTS DAM_LGHTS               SPECIES  \\\n",
       "count             284194  ...    284194    284194                284194   \n",
       "unique              2712  ...         2         2                   896   \n",
       "top             -104.667  ...         0         0  Unknown bird - small   \n",
       "freq               10997  ...    283000    283347                 47171   \n",
       "\n",
       "       OUT_OF_RANGE_SPECIES REMAINS_COLLECTED REMAINS_SENT   WARNED NUM_SEEN  \\\n",
       "count                284194            284194       284194   284194   284194   \n",
       "unique                    2                 2            2        3        5   \n",
       "top                       0                 1            0  Unknown      nan   \n",
       "freq                 284032            155007       244675   169150   182438   \n",
       "\n",
       "       NUM_STRUCK    SIZE  \n",
       "count      284194  257562  \n",
       "unique          5       3  \n",
       "top             1   Small  \n",
       "freq       249781  177571  \n",
       "\n",
       "[4 rows x 62 columns]"
      ]
     },
     "execution_count": 14,
     "metadata": {},
     "output_type": "execute_result"
    }
   ],
   "source": [
    "# Check 2/3\n",
    "df_main.describe()"
   ]
  },
  {
   "cell_type": "code",
   "execution_count": 15,
   "id": "5ab9d199",
   "metadata": {},
   "outputs": [
    {
     "data": {
      "application/vnd.microsoft.datawrangler.viewer.v0+json": {
       "columns": [
        {
         "name": "index",
         "rawType": "object",
         "type": "string"
        },
        {
         "name": "INDEX_NR",
         "rawType": "object",
         "type": "unknown"
        },
        {
         "name": "INCIDENT_DATE",
         "rawType": "object",
         "type": "unknown"
        },
        {
         "name": "INCIDENT_MONTH",
         "rawType": "object",
         "type": "unknown"
        },
        {
         "name": "INCIDENT_YEAR",
         "rawType": "object",
         "type": "unknown"
        },
        {
         "name": "TIME",
         "rawType": "object",
         "type": "unknown"
        },
        {
         "name": "TIME_OF_DAY",
         "rawType": "object",
         "type": "unknown"
        },
        {
         "name": "AIRPORT_ID",
         "rawType": "object",
         "type": "unknown"
        },
        {
         "name": "AIRPORT",
         "rawType": "object",
         "type": "unknown"
        },
        {
         "name": "AIRPORT_LATITUDE",
         "rawType": "object",
         "type": "unknown"
        },
        {
         "name": "AIRPORT_LONGITUDE",
         "rawType": "object",
         "type": "unknown"
        },
        {
         "name": "STATE",
         "rawType": "object",
         "type": "unknown"
        },
        {
         "name": "FAAREGION",
         "rawType": "object",
         "type": "unknown"
        },
        {
         "name": "OPERATOR",
         "rawType": "object",
         "type": "unknown"
        },
        {
         "name": "AIRCRAFT",
         "rawType": "object",
         "type": "unknown"
        },
        {
         "name": "AC_CLASS",
         "rawType": "object",
         "type": "unknown"
        },
        {
         "name": "AC_MASS",
         "rawType": "object",
         "type": "unknown"
        },
        {
         "name": "TYPE_ENG",
         "rawType": "object",
         "type": "unknown"
        },
        {
         "name": "NUM_ENGS",
         "rawType": "object",
         "type": "unknown"
        },
        {
         "name": "PHASE_OF_FLIGHT",
         "rawType": "object",
         "type": "unknown"
        },
        {
         "name": "HEIGHT",
         "rawType": "object",
         "type": "unknown"
        },
        {
         "name": "DISTANCE",
         "rawType": "object",
         "type": "unknown"
        },
        {
         "name": "SKY",
         "rawType": "object",
         "type": "unknown"
        },
        {
         "name": "INDICATED_DAMAGE",
         "rawType": "object",
         "type": "unknown"
        },
        {
         "name": "DAMAGE_LEVEL",
         "rawType": "object",
         "type": "unknown"
        },
        {
         "name": "STR_RAD",
         "rawType": "object",
         "type": "unknown"
        },
        {
         "name": "DAM_RAD",
         "rawType": "object",
         "type": "unknown"
        },
        {
         "name": "STR_WINDSHLD",
         "rawType": "object",
         "type": "unknown"
        },
        {
         "name": "DAM_WINDSHLD",
         "rawType": "object",
         "type": "unknown"
        },
        {
         "name": "STR_NOSE",
         "rawType": "object",
         "type": "unknown"
        },
        {
         "name": "DAM_NOSE",
         "rawType": "object",
         "type": "unknown"
        },
        {
         "name": "STR_ENG1",
         "rawType": "object",
         "type": "unknown"
        },
        {
         "name": "DAM_ENG1",
         "rawType": "object",
         "type": "unknown"
        },
        {
         "name": "ING_ENG1",
         "rawType": "object",
         "type": "unknown"
        },
        {
         "name": "STR_ENG2",
         "rawType": "object",
         "type": "unknown"
        },
        {
         "name": "DAM_ENG2",
         "rawType": "object",
         "type": "unknown"
        },
        {
         "name": "ING_ENG2",
         "rawType": "object",
         "type": "unknown"
        },
        {
         "name": "STR_ENG3",
         "rawType": "object",
         "type": "unknown"
        },
        {
         "name": "DAM_ENG3",
         "rawType": "object",
         "type": "unknown"
        },
        {
         "name": "ING_ENG3",
         "rawType": "object",
         "type": "unknown"
        },
        {
         "name": "STR_ENG4",
         "rawType": "object",
         "type": "unknown"
        },
        {
         "name": "DAM_ENG4",
         "rawType": "object",
         "type": "unknown"
        },
        {
         "name": "ING_ENG4",
         "rawType": "object",
         "type": "unknown"
        },
        {
         "name": "STR_PROP",
         "rawType": "object",
         "type": "unknown"
        },
        {
         "name": "DAM_PROP",
         "rawType": "object",
         "type": "unknown"
        },
        {
         "name": "STR_WING_ROT",
         "rawType": "object",
         "type": "unknown"
        },
        {
         "name": "DAM_WING_ROT",
         "rawType": "object",
         "type": "unknown"
        },
        {
         "name": "STR_FUSE",
         "rawType": "object",
         "type": "unknown"
        },
        {
         "name": "DAM_FUSE",
         "rawType": "object",
         "type": "unknown"
        },
        {
         "name": "STR_LG",
         "rawType": "object",
         "type": "unknown"
        },
        {
         "name": "DAM_LG",
         "rawType": "object",
         "type": "unknown"
        },
        {
         "name": "STR_TAIL",
         "rawType": "object",
         "type": "unknown"
        },
        {
         "name": "DAM_TAIL",
         "rawType": "object",
         "type": "unknown"
        },
        {
         "name": "STR_LGHTS",
         "rawType": "object",
         "type": "unknown"
        },
        {
         "name": "DAM_LGHTS",
         "rawType": "object",
         "type": "unknown"
        },
        {
         "name": "SPECIES",
         "rawType": "object",
         "type": "unknown"
        },
        {
         "name": "OUT_OF_RANGE_SPECIES",
         "rawType": "object",
         "type": "unknown"
        },
        {
         "name": "REMAINS_COLLECTED",
         "rawType": "object",
         "type": "unknown"
        },
        {
         "name": "REMAINS_SENT",
         "rawType": "object",
         "type": "unknown"
        },
        {
         "name": "WARNED",
         "rawType": "object",
         "type": "unknown"
        },
        {
         "name": "NUM_SEEN",
         "rawType": "object",
         "type": "unknown"
        },
        {
         "name": "NUM_STRUCK",
         "rawType": "object",
         "type": "unknown"
        },
        {
         "name": "SIZE",
         "rawType": "object",
         "type": "unknown"
        }
       ],
       "ref": "d938c525-73a6-4cef-a7b2-051d0751b966",
       "rows": [
        [
         "count",
         "284194",
         "284194",
         "284194",
         "284194",
         "184275",
         "174661",
         "284194",
         "284194",
         "284194",
         "284194",
         "284194",
         "284194",
         "284194",
         "284194",
         "191346",
         "191257",
         "190934",
         "191039",
         "191912",
         "158686",
         "216084",
         "146189",
         "284194",
         "170988",
         "284194",
         "284194",
         "284194",
         "284194",
         "284194",
         "284194",
         "284194",
         "284194",
         "284194",
         "284194",
         "284194",
         "284194",
         "284194",
         "284194",
         "284194",
         "284194",
         "284194",
         "284194",
         "284194",
         "284194",
         "284194",
         "284194",
         "284194",
         "284194",
         "284194",
         "284194",
         "284194",
         "284194",
         "284194",
         "284194",
         "284194",
         "284194",
         "284194",
         "284194",
         "284194",
         "284194",
         "284194",
         "257562"
        ],
        [
         "unique",
         "284194",
         "12915",
         "12",
         "36",
         "1441",
         "4",
         "2716",
         "2716",
         "2710",
         "2712",
         "67",
         "10",
         "617",
         "592",
         "5",
         "5",
         "7",
         "4",
         "11",
         "700",
         "233",
         "3",
         "2",
         "5",
         "2",
         "2",
         "2",
         "2",
         "2",
         "2",
         "2",
         "2",
         "2",
         "2",
         "2",
         "2",
         "2",
         "2",
         "2",
         "2",
         "2",
         "2",
         "2",
         "2",
         "2",
         "2",
         "2",
         "2",
         "2",
         "2",
         "2",
         "2",
         "2",
         "2",
         "896",
         "2",
         "2",
         "2",
         "3",
         "5",
         "5",
         "3"
        ],
        [
         "top",
         "608242",
         "2024-07-23",
         "8",
         "2024",
         "     ",
         "Day",
         "KDEN",
         "DENVER INTL AIRPORT",
         "39.85841",
         "-104.667",
         "TX",
         "ASO",
         "UNKNOWN",
         "UNKNOWN",
         "A  ",
         "4",
         "D",
         "2",
         "Approach",
         "0",
         "0",
         "No Cloud",
         "0",
         "N",
         "0",
         "0",
         "0",
         "0",
         "0",
         "0",
         "0",
         "0",
         "0",
         "0",
         "0",
         "0",
         "0",
         "0",
         "0",
         "0",
         "0",
         "0",
         "0",
         "0",
         "0",
         "0",
         "0",
         "0",
         "0",
         "0",
         "0",
         "0",
         "0",
         "0",
         "Unknown bird - small",
         "0",
         "1",
         "0",
         "Unknown",
         "nan",
         "1",
         "Small"
        ],
        [
         "freq",
         "1",
         "130",
         "40673",
         "18271",
         "14196",
         "108129",
         "10997",
         "10997",
         "10997",
         "10997",
         "28958",
         "61742",
         "92348",
         "92517",
         "190192",
         "133953",
         "162047",
         "167099",
         "83972",
         "70080",
         "188987",
         "70409",
         "267350",
         "154147",
         "258187",
         "282303",
         "250095",
         "283347",
         "251664",
         "282687",
         "273345",
         "281599",
         "283095",
         "275386",
         "282004",
         "283134",
         "283815",
         "284060",
         "284174",
         "284015",
         "284139",
         "284184",
         "279464",
         "283552",
         "258340",
         "279193",
         "260182",
         "283180",
         "272552",
         "282960",
         "281819",
         "283453",
         "283000",
         "283347",
         "47171",
         "284032",
         "155007",
         "244675",
         "169150",
         "182438",
         "249781",
         "177571"
        ]
       ],
       "shape": {
        "columns": 62,
        "rows": 4
       }
      },
      "text/html": [
       "<div>\n",
       "<style scoped>\n",
       "    .dataframe tbody tr th:only-of-type {\n",
       "        vertical-align: middle;\n",
       "    }\n",
       "\n",
       "    .dataframe tbody tr th {\n",
       "        vertical-align: top;\n",
       "    }\n",
       "\n",
       "    .dataframe thead th {\n",
       "        text-align: right;\n",
       "    }\n",
       "</style>\n",
       "<table border=\"1\" class=\"dataframe\">\n",
       "  <thead>\n",
       "    <tr style=\"text-align: right;\">\n",
       "      <th></th>\n",
       "      <th>INDEX_NR</th>\n",
       "      <th>INCIDENT_DATE</th>\n",
       "      <th>INCIDENT_MONTH</th>\n",
       "      <th>INCIDENT_YEAR</th>\n",
       "      <th>TIME</th>\n",
       "      <th>TIME_OF_DAY</th>\n",
       "      <th>AIRPORT_ID</th>\n",
       "      <th>AIRPORT</th>\n",
       "      <th>AIRPORT_LATITUDE</th>\n",
       "      <th>AIRPORT_LONGITUDE</th>\n",
       "      <th>...</th>\n",
       "      <th>STR_LGHTS</th>\n",
       "      <th>DAM_LGHTS</th>\n",
       "      <th>SPECIES</th>\n",
       "      <th>OUT_OF_RANGE_SPECIES</th>\n",
       "      <th>REMAINS_COLLECTED</th>\n",
       "      <th>REMAINS_SENT</th>\n",
       "      <th>WARNED</th>\n",
       "      <th>NUM_SEEN</th>\n",
       "      <th>NUM_STRUCK</th>\n",
       "      <th>SIZE</th>\n",
       "    </tr>\n",
       "  </thead>\n",
       "  <tbody>\n",
       "    <tr>\n",
       "      <th>count</th>\n",
       "      <td>284194</td>\n",
       "      <td>284194</td>\n",
       "      <td>284194</td>\n",
       "      <td>284194</td>\n",
       "      <td>184275</td>\n",
       "      <td>174661</td>\n",
       "      <td>284194</td>\n",
       "      <td>284194</td>\n",
       "      <td>284194</td>\n",
       "      <td>284194</td>\n",
       "      <td>...</td>\n",
       "      <td>284194</td>\n",
       "      <td>284194</td>\n",
       "      <td>284194</td>\n",
       "      <td>284194</td>\n",
       "      <td>284194</td>\n",
       "      <td>284194</td>\n",
       "      <td>284194</td>\n",
       "      <td>284194</td>\n",
       "      <td>284194</td>\n",
       "      <td>257562</td>\n",
       "    </tr>\n",
       "    <tr>\n",
       "      <th>unique</th>\n",
       "      <td>284194</td>\n",
       "      <td>12915</td>\n",
       "      <td>12</td>\n",
       "      <td>36</td>\n",
       "      <td>1441</td>\n",
       "      <td>4</td>\n",
       "      <td>2716</td>\n",
       "      <td>2716</td>\n",
       "      <td>2710</td>\n",
       "      <td>2712</td>\n",
       "      <td>...</td>\n",
       "      <td>2</td>\n",
       "      <td>2</td>\n",
       "      <td>896</td>\n",
       "      <td>2</td>\n",
       "      <td>2</td>\n",
       "      <td>2</td>\n",
       "      <td>3</td>\n",
       "      <td>5</td>\n",
       "      <td>5</td>\n",
       "      <td>3</td>\n",
       "    </tr>\n",
       "    <tr>\n",
       "      <th>top</th>\n",
       "      <td>608242</td>\n",
       "      <td>2024-07-23</td>\n",
       "      <td>8</td>\n",
       "      <td>2024</td>\n",
       "      <td></td>\n",
       "      <td>Day</td>\n",
       "      <td>KDEN</td>\n",
       "      <td>DENVER INTL AIRPORT</td>\n",
       "      <td>39.85841</td>\n",
       "      <td>-104.667</td>\n",
       "      <td>...</td>\n",
       "      <td>0</td>\n",
       "      <td>0</td>\n",
       "      <td>Unknown bird - small</td>\n",
       "      <td>0</td>\n",
       "      <td>1</td>\n",
       "      <td>0</td>\n",
       "      <td>Unknown</td>\n",
       "      <td>nan</td>\n",
       "      <td>1</td>\n",
       "      <td>Small</td>\n",
       "    </tr>\n",
       "    <tr>\n",
       "      <th>freq</th>\n",
       "      <td>1</td>\n",
       "      <td>130</td>\n",
       "      <td>40673</td>\n",
       "      <td>18271</td>\n",
       "      <td>14196</td>\n",
       "      <td>108129</td>\n",
       "      <td>10997</td>\n",
       "      <td>10997</td>\n",
       "      <td>10997</td>\n",
       "      <td>10997</td>\n",
       "      <td>...</td>\n",
       "      <td>283000</td>\n",
       "      <td>283347</td>\n",
       "      <td>47171</td>\n",
       "      <td>284032</td>\n",
       "      <td>155007</td>\n",
       "      <td>244675</td>\n",
       "      <td>169150</td>\n",
       "      <td>182438</td>\n",
       "      <td>249781</td>\n",
       "      <td>177571</td>\n",
       "    </tr>\n",
       "  </tbody>\n",
       "</table>\n",
       "<p>4 rows × 62 columns</p>\n",
       "</div>"
      ],
      "text/plain": [
       "       INDEX_NR INCIDENT_DATE INCIDENT_MONTH INCIDENT_YEAR    TIME  \\\n",
       "count    284194        284194         284194        284194  184275   \n",
       "unique   284194         12915             12            36    1441   \n",
       "top      608242    2024-07-23              8          2024           \n",
       "freq          1           130          40673         18271   14196   \n",
       "\n",
       "       TIME_OF_DAY AIRPORT_ID              AIRPORT AIRPORT_LATITUDE  \\\n",
       "count       174661     284194               284194           284194   \n",
       "unique           4       2716                 2716             2710   \n",
       "top            Day       KDEN  DENVER INTL AIRPORT         39.85841   \n",
       "freq        108129      10997                10997            10997   \n",
       "\n",
       "       AIRPORT_LONGITUDE  ... STR_LGHTS DAM_LGHTS               SPECIES  \\\n",
       "count             284194  ...    284194    284194                284194   \n",
       "unique              2712  ...         2         2                   896   \n",
       "top             -104.667  ...         0         0  Unknown bird - small   \n",
       "freq               10997  ...    283000    283347                 47171   \n",
       "\n",
       "       OUT_OF_RANGE_SPECIES REMAINS_COLLECTED REMAINS_SENT   WARNED NUM_SEEN  \\\n",
       "count                284194            284194       284194   284194   284194   \n",
       "unique                    2                 2            2        3        5   \n",
       "top                       0                 1            0  Unknown      nan   \n",
       "freq                 284032            155007       244675   169150   182438   \n",
       "\n",
       "       NUM_STRUCK    SIZE  \n",
       "count      284194  257562  \n",
       "unique          5       3  \n",
       "top             1   Small  \n",
       "freq       249781  177571  \n",
       "\n",
       "[4 rows x 62 columns]"
      ]
     },
     "execution_count": 15,
     "metadata": {},
     "output_type": "execute_result"
    }
   ],
   "source": [
    "# Check 3/3\n",
    "df_main.describe(include=['O'])"
   ]
  },
  {
   "cell_type": "code",
   "execution_count": 16,
   "id": "f1cb2260",
   "metadata": {},
   "outputs": [],
   "source": [
    "# Set integer columns to integer data types\n",
    "int_columns = ['INDEX_NR', 'INCIDENT_MONTH', 'INCIDENT_YEAR', 'AC_MASS', 'NUM_ENGS', 'NR_INJURIES', 'NR_FATALITIES']\n",
    "for col in int_columns:\n",
    "    if col in df_main.columns:\n",
    "        df_main[col] = df_main[col].astype('Int64')\n"
   ]
  },
  {
   "cell_type": "code",
   "execution_count": 17,
   "id": "7afa9e0b",
   "metadata": {},
   "outputs": [
    {
     "name": "stdout",
     "output_type": "stream",
     "text": [
      "Cleaned data saved to Output/df_main1.parquet.gzip\n",
      "\n",
      "Load, clean and save data end: 20:02:28, Elapsed time: 0:06:23\n"
     ]
    }
   ],
   "source": [
    "output_path_1 = 'Output/df_main1.parquet.gzip'\n",
    "\n",
    "if is_data_loaded_from_Excel:\n",
    "    df_main.to_parquet(output_path_1, compression='gzip')\n",
    "# print current time and elapsed time\n",
    "end_time = datetime.now()\n",
    "# Print output path\n",
    "print(f'Cleaned data saved to {output_path_1}\\n')\n",
    "\n",
    "print(\n",
    "    f'Load, clean and save data end: {datetime.strftime(end_time, \"%H:%M:%S\")},'\n",
    "    + f' Elapsed time: {str(end_time - start_time).split(\".\")[0]}'\n",
    ")\n"
   ]
  },
  {
   "cell_type": "markdown",
   "id": "a1237347",
   "metadata": {},
   "source": [
    "## Add derived columns"
   ]
  },
  {
   "cell_type": "code",
   "execution_count": 18,
   "id": "4d66121b",
   "metadata": {},
   "outputs": [
    {
     "data": {
      "application/vnd.microsoft.datawrangler.viewer.v0+json": {
       "columns": [
        {
         "name": "TIME_PERIOD",
         "rawType": "object",
         "type": "unknown"
        },
        {
         "name": "count",
         "rawType": "int64",
         "type": "integer"
        }
       ],
       "ref": "84ec9836-ef56-4d51-8143-bacb88600793",
       "rows": [
        [
         "00:00-00:29",
         "2098"
        ],
        [
         "00:30-00:59",
         "1579"
        ],
        [
         "01:00-01:29",
         "1323"
        ],
        [
         "01:30-01:59",
         "1024"
        ],
        [
         "02:00-02:29",
         "905"
        ],
        [
         "02:30-02:59",
         "656"
        ],
        [
         "03:00-03:29",
         "680"
        ],
        [
         "03:30-03:59",
         "671"
        ],
        [
         "04:00-04:29",
         "866"
        ],
        [
         "04:30-04:59",
         "920"
        ],
        [
         "05:00-05:29",
         "1286"
        ],
        [
         "05:30-05:59",
         "1464"
        ],
        [
         "06:00-06:29",
         "2937"
        ],
        [
         "06:30-06:59",
         "3879"
        ],
        [
         "07:00-07:29",
         "6089"
        ],
        [
         "07:30-07:59",
         "6406"
        ],
        [
         "08:00-08:29",
         "6978"
        ],
        [
         "08:30-08:59",
         "6422"
        ],
        [
         "09:00-09:29",
         "6568"
        ],
        [
         "09:30-09:59",
         "6027"
        ],
        [
         "10:00-10:29",
         "6122"
        ],
        [
         "10:30-10:59",
         "5424"
        ],
        [
         "11:00-11:29",
         "4998"
        ],
        [
         "11:30-11:59",
         "4494"
        ],
        [
         "12:00-12:29",
         "4251"
        ],
        [
         "12:30-12:59",
         "3524"
        ],
        [
         "13:00-13:29",
         "3440"
        ],
        [
         "13:30-13:59",
         "3104"
        ],
        [
         "14:00-14:29",
         "3285"
        ],
        [
         "14:30-14:59",
         "3173"
        ],
        [
         "15:00-15:29",
         "3219"
        ],
        [
         "15:30-15:59",
         "3366"
        ],
        [
         "16:00-16:29",
         "3693"
        ],
        [
         "16:30-16:59",
         "3582"
        ],
        [
         "17:00-17:29",
         "4181"
        ],
        [
         "17:30-17:59",
         "3989"
        ],
        [
         "18:00-18:29",
         "4183"
        ],
        [
         "18:30-18:59",
         "3887"
        ],
        [
         "19:00-19:29",
         "3925"
        ],
        [
         "19:30-19:59",
         "3765"
        ],
        [
         "20:00-20:29",
         "4020"
        ],
        [
         "20:30-20:59",
         "3971"
        ],
        [
         "21:00-21:29",
         "4377"
        ],
        [
         "21:30-21:59",
         "4174"
        ],
        [
         "22:00-22:29",
         "4015"
        ],
        [
         "22:30-22:59",
         "3826"
        ],
        [
         "23:00-23:29",
         "3804"
        ],
        [
         "23:30-23:59",
         "3509"
        ],
        [
         null,
         "114115"
        ]
       ],
       "shape": {
        "columns": 1,
        "rows": 49
       }
      },
      "text/plain": [
       "TIME_PERIOD\n",
       "00:00-00:29      2098\n",
       "00:30-00:59      1579\n",
       "01:00-01:29      1323\n",
       "01:30-01:59      1024\n",
       "02:00-02:29       905\n",
       "02:30-02:59       656\n",
       "03:00-03:29       680\n",
       "03:30-03:59       671\n",
       "04:00-04:29       866\n",
       "04:30-04:59       920\n",
       "05:00-05:29      1286\n",
       "05:30-05:59      1464\n",
       "06:00-06:29      2937\n",
       "06:30-06:59      3879\n",
       "07:00-07:29      6089\n",
       "07:30-07:59      6406\n",
       "08:00-08:29      6978\n",
       "08:30-08:59      6422\n",
       "09:00-09:29      6568\n",
       "09:30-09:59      6027\n",
       "10:00-10:29      6122\n",
       "10:30-10:59      5424\n",
       "11:00-11:29      4998\n",
       "11:30-11:59      4494\n",
       "12:00-12:29      4251\n",
       "12:30-12:59      3524\n",
       "13:00-13:29      3440\n",
       "13:30-13:59      3104\n",
       "14:00-14:29      3285\n",
       "14:30-14:59      3173\n",
       "15:00-15:29      3219\n",
       "15:30-15:59      3366\n",
       "16:00-16:29      3693\n",
       "16:30-16:59      3582\n",
       "17:00-17:29      4181\n",
       "17:30-17:59      3989\n",
       "18:00-18:29      4183\n",
       "18:30-18:59      3887\n",
       "19:00-19:29      3925\n",
       "19:30-19:59      3765\n",
       "20:00-20:29      4020\n",
       "20:30-20:59      3971\n",
       "21:00-21:29      4377\n",
       "21:30-21:59      4174\n",
       "22:00-22:29      4015\n",
       "22:30-22:59      3826\n",
       "23:00-23:29      3804\n",
       "23:30-23:59      3509\n",
       "NaN            114115\n",
       "Name: count, dtype: int64"
      ]
     },
     "execution_count": 18,
     "metadata": {},
     "output_type": "execute_result"
    }
   ],
   "source": [
    "# Split day into half-hour periods. Time is given as HH:MM. Ignore missing values\n",
    "def split_time_to_half_hour_periods(time_str):\n",
    "    if pd.isna(time_str):\n",
    "        return np.nan\n",
    "    try:\n",
    "        time_obj = datetime.strptime(time_str, '%H:%M')\n",
    "        hour = time_obj.hour\n",
    "        minute = time_obj.minute\n",
    "        if minute < 30:\n",
    "            return f'{hour:02d}:00-{hour:02d}:29'\n",
    "        else:\n",
    "            # next_hour = (hour + 1) % 24\n",
    "            return f'{hour:02d}:30-{hour:02d}:59'\n",
    "    except ValueError:\n",
    "        return np.nan\n",
    "\n",
    "df_main['TIME_PERIOD'] = df_main['TIME'].apply(split_time_to_half_hour_periods)\n",
    "# Check TIME_PERIOD\n",
    "df_main['TIME_PERIOD'].value_counts(dropna=False).sort_index()"
   ]
  },
  {
   "cell_type": "code",
   "execution_count": 19,
   "id": "3db76054",
   "metadata": {},
   "outputs": [
    {
     "data": {
      "application/vnd.microsoft.datawrangler.viewer.v0+json": {
       "columns": [
        {
         "name": "TIME_PERIOD_INDEX",
         "rawType": "float64",
         "type": "float"
        },
        {
         "name": "count",
         "rawType": "int64",
         "type": "integer"
        }
       ],
       "ref": "6f9509b7-b1d0-4f45-b505-5032ca24a357",
       "rows": [
        [
         "0.0",
         "2098"
        ],
        [
         "1.0",
         "1579"
        ],
        [
         "2.0",
         "1323"
        ],
        [
         "3.0",
         "1024"
        ],
        [
         "4.0",
         "905"
        ],
        [
         "5.0",
         "656"
        ],
        [
         "6.0",
         "680"
        ],
        [
         "7.0",
         "671"
        ],
        [
         "8.0",
         "866"
        ],
        [
         "9.0",
         "920"
        ],
        [
         "10.0",
         "1286"
        ],
        [
         "11.0",
         "1464"
        ],
        [
         "12.0",
         "2937"
        ],
        [
         "13.0",
         "3879"
        ],
        [
         "14.0",
         "6089"
        ],
        [
         "15.0",
         "6406"
        ],
        [
         "16.0",
         "6978"
        ],
        [
         "17.0",
         "6422"
        ],
        [
         "18.0",
         "6568"
        ],
        [
         "19.0",
         "6027"
        ],
        [
         "20.0",
         "6122"
        ],
        [
         "21.0",
         "5424"
        ],
        [
         "22.0",
         "4998"
        ],
        [
         "23.0",
         "4494"
        ],
        [
         "24.0",
         "4251"
        ],
        [
         "25.0",
         "3524"
        ],
        [
         "26.0",
         "3440"
        ],
        [
         "27.0",
         "3104"
        ],
        [
         "28.0",
         "3285"
        ],
        [
         "29.0",
         "3173"
        ],
        [
         "30.0",
         "3219"
        ],
        [
         "31.0",
         "3366"
        ],
        [
         "32.0",
         "3693"
        ],
        [
         "33.0",
         "3582"
        ],
        [
         "34.0",
         "4181"
        ],
        [
         "35.0",
         "3989"
        ],
        [
         "36.0",
         "4183"
        ],
        [
         "37.0",
         "3887"
        ],
        [
         "38.0",
         "3925"
        ],
        [
         "39.0",
         "3765"
        ],
        [
         "40.0",
         "4020"
        ],
        [
         "41.0",
         "3971"
        ],
        [
         "42.0",
         "4377"
        ],
        [
         "43.0",
         "4174"
        ],
        [
         "44.0",
         "4015"
        ],
        [
         "45.0",
         "3826"
        ],
        [
         "46.0",
         "3804"
        ],
        [
         "47.0",
         "3509"
        ],
        [
         null,
         "114115"
        ]
       ],
       "shape": {
        "columns": 1,
        "rows": 49
       }
      },
      "text/plain": [
       "TIME_PERIOD_INDEX\n",
       "0.0       2098\n",
       "1.0       1579\n",
       "2.0       1323\n",
       "3.0       1024\n",
       "4.0        905\n",
       "5.0        656\n",
       "6.0        680\n",
       "7.0        671\n",
       "8.0        866\n",
       "9.0        920\n",
       "10.0      1286\n",
       "11.0      1464\n",
       "12.0      2937\n",
       "13.0      3879\n",
       "14.0      6089\n",
       "15.0      6406\n",
       "16.0      6978\n",
       "17.0      6422\n",
       "18.0      6568\n",
       "19.0      6027\n",
       "20.0      6122\n",
       "21.0      5424\n",
       "22.0      4998\n",
       "23.0      4494\n",
       "24.0      4251\n",
       "25.0      3524\n",
       "26.0      3440\n",
       "27.0      3104\n",
       "28.0      3285\n",
       "29.0      3173\n",
       "30.0      3219\n",
       "31.0      3366\n",
       "32.0      3693\n",
       "33.0      3582\n",
       "34.0      4181\n",
       "35.0      3989\n",
       "36.0      4183\n",
       "37.0      3887\n",
       "38.0      3925\n",
       "39.0      3765\n",
       "40.0      4020\n",
       "41.0      3971\n",
       "42.0      4377\n",
       "43.0      4174\n",
       "44.0      4015\n",
       "45.0      3826\n",
       "46.0      3804\n",
       "47.0      3509\n",
       "NaN     114115\n",
       "Name: count, dtype: int64"
      ]
     },
     "execution_count": 19,
     "metadata": {},
     "output_type": "execute_result"
    }
   ],
   "source": [
    "# Assign a time period index to each half-hour period\n",
    "def time_period_index(time_period_str):\n",
    "    if pd.isna(time_period_str):\n",
    "        return np.nan\n",
    "    try:\n",
    "        start_time = time_period_str.split('-')[0]\n",
    "        hour, minute = map(int, start_time.split(':'))\n",
    "        return hour * 2 + (1 if minute >= 30 else 0)\n",
    "    except ValueError:\n",
    "        return np.nan\n",
    "\n",
    "df_main['TIME_PERIOD_INDEX'] = df_main['TIME_PERIOD'].apply(time_period_index)\n",
    "# Check TIME_PERIOD_INDEX\n",
    "df_main['TIME_PERIOD_INDEX'].value_counts(dropna=False).sort_index()"
   ]
  },
  {
   "cell_type": "code",
   "execution_count": 20,
   "id": "0e9f5124",
   "metadata": {},
   "outputs": [],
   "source": [
    "df_main['INCIDENT_TIME'] = pd.to_datetime(df_main['TIME'], format='%H:%M', errors='coerce').dt.time\n",
    "df_main['INCIDENT_HOUR'] = df_main['INCIDENT_TIME'].apply(lambda x: x.hour if pd.notnull(x) else np.nan)\n",
    "df_main['INCIDENT_MINUTE'] = df_main['INCIDENT_TIME'].apply(lambda x: x.minute if pd.notnull(x) else np.nan)\n",
    "df_main['INCIDENT_HALF_HOUR'] = df_main.apply(lambda row:\n",
    "    f\"{int(row['INCIDENT_HOUR']):02d}:{'00' if row['INCIDENT_MINUTE'] < 30 else '30'}\" \n",
    "        if pd.notnull(row['INCIDENT_HOUR']) and pd.notnull(row['INCIDENT_MINUTE']) \n",
    "        else np.nan,\n",
    "    axis=1\n",
    ")"
   ]
  },
  {
   "cell_type": "code",
   "execution_count": 21,
   "id": "f677d624",
   "metadata": {},
   "outputs": [
    {
     "data": {
      "application/vnd.microsoft.datawrangler.viewer.v0+json": {
       "columns": [
        {
         "name": "index",
         "rawType": "int64",
         "type": "integer"
        },
        {
         "name": "INCIDENT_MONTH",
         "rawType": "Int64",
         "type": "integer"
        },
        {
         "name": "INCIDENT_MONTH_NAME",
         "rawType": "object",
         "type": "string"
        }
       ],
       "ref": "12252da3-68bd-43e9-8bd6-b64f97d23823",
       "rows": [
        [
         "71",
         "1",
         "Jan"
        ],
        [
         "19",
         "2",
         "Feb"
        ],
        [
         "16",
         "3",
         "Mar"
        ],
        [
         "11",
         "4",
         "Apr"
        ],
        [
         "5",
         "5",
         "May"
        ],
        [
         "0",
         "6",
         "Jun"
        ],
        [
         "2",
         "7",
         "Jul"
        ],
        [
         "9",
         "8",
         "Aug"
        ],
        [
         "7",
         "9",
         "Sep"
        ],
        [
         "21",
         "10",
         "Oct"
        ],
        [
         "20",
         "11",
         "Nov"
        ],
        [
         "12",
         "12",
         "Dec"
        ]
       ],
       "shape": {
        "columns": 2,
        "rows": 12
       }
      },
      "text/html": [
       "<div>\n",
       "<style scoped>\n",
       "    .dataframe tbody tr th:only-of-type {\n",
       "        vertical-align: middle;\n",
       "    }\n",
       "\n",
       "    .dataframe tbody tr th {\n",
       "        vertical-align: top;\n",
       "    }\n",
       "\n",
       "    .dataframe thead th {\n",
       "        text-align: right;\n",
       "    }\n",
       "</style>\n",
       "<table border=\"1\" class=\"dataframe\">\n",
       "  <thead>\n",
       "    <tr style=\"text-align: right;\">\n",
       "      <th></th>\n",
       "      <th>INCIDENT_MONTH</th>\n",
       "      <th>INCIDENT_MONTH_NAME</th>\n",
       "    </tr>\n",
       "  </thead>\n",
       "  <tbody>\n",
       "    <tr>\n",
       "      <th>71</th>\n",
       "      <td>1</td>\n",
       "      <td>Jan</td>\n",
       "    </tr>\n",
       "    <tr>\n",
       "      <th>19</th>\n",
       "      <td>2</td>\n",
       "      <td>Feb</td>\n",
       "    </tr>\n",
       "    <tr>\n",
       "      <th>16</th>\n",
       "      <td>3</td>\n",
       "      <td>Mar</td>\n",
       "    </tr>\n",
       "    <tr>\n",
       "      <th>11</th>\n",
       "      <td>4</td>\n",
       "      <td>Apr</td>\n",
       "    </tr>\n",
       "    <tr>\n",
       "      <th>5</th>\n",
       "      <td>5</td>\n",
       "      <td>May</td>\n",
       "    </tr>\n",
       "    <tr>\n",
       "      <th>0</th>\n",
       "      <td>6</td>\n",
       "      <td>Jun</td>\n",
       "    </tr>\n",
       "    <tr>\n",
       "      <th>2</th>\n",
       "      <td>7</td>\n",
       "      <td>Jul</td>\n",
       "    </tr>\n",
       "    <tr>\n",
       "      <th>9</th>\n",
       "      <td>8</td>\n",
       "      <td>Aug</td>\n",
       "    </tr>\n",
       "    <tr>\n",
       "      <th>7</th>\n",
       "      <td>9</td>\n",
       "      <td>Sep</td>\n",
       "    </tr>\n",
       "    <tr>\n",
       "      <th>21</th>\n",
       "      <td>10</td>\n",
       "      <td>Oct</td>\n",
       "    </tr>\n",
       "    <tr>\n",
       "      <th>20</th>\n",
       "      <td>11</td>\n",
       "      <td>Nov</td>\n",
       "    </tr>\n",
       "    <tr>\n",
       "      <th>12</th>\n",
       "      <td>12</td>\n",
       "      <td>Dec</td>\n",
       "    </tr>\n",
       "  </tbody>\n",
       "</table>\n",
       "</div>"
      ],
      "text/plain": [
       "    INCIDENT_MONTH INCIDENT_MONTH_NAME\n",
       "71               1                 Jan\n",
       "19               2                 Feb\n",
       "16               3                 Mar\n",
       "11               4                 Apr\n",
       "5                5                 May\n",
       "0                6                 Jun\n",
       "2                7                 Jul\n",
       "9                8                 Aug\n",
       "7                9                 Sep\n",
       "21              10                 Oct\n",
       "20              11                 Nov\n",
       "12              12                 Dec"
      ]
     },
     "execution_count": 21,
     "metadata": {},
     "output_type": "execute_result"
    }
   ],
   "source": [
    "# Derive abbreviated month name from INCIDENT_MONTH\n",
    "month_names = {1: 'Jan', 2: 'Feb', 3: 'Mar', 4: 'Apr', 5: 'May', 6: 'Jun', \n",
    "               7: 'Jul', 8: 'Aug', 9: 'Sep', 10: 'Oct', 11: 'Nov', 12: 'Dec'}\n",
    "\n",
    "df_main['INCIDENT_MONTH_NAME'] = df_main['INCIDENT_MONTH'].apply(lambda x: month_names.get(x) if pd.notnull(x) else np.nan)\n",
    "# Check INCIDENT_MONTH_NAME, sort by month number\n",
    "df_main[['INCIDENT_MONTH', 'INCIDENT_MONTH_NAME']].drop_duplicates().sort_values(by='INCIDENT_MONTH')\n"
   ]
  },
  {
   "cell_type": "code",
   "execution_count": 22,
   "id": "cc091768",
   "metadata": {},
   "outputs": [
    {
     "name": "stdout",
     "output_type": "stream",
     "text": [
      "Additional data saved to Output/df_main2.parquet.gzip and Output/df_main2.csv\n",
      "\n",
      "Save cleaned and prepared data end: 20:02:48, Elapsed time: 0:06:43\n"
     ]
    }
   ],
   "source": [
    "# Save cleaned and prepared data\n",
    "output_path_2_parquet = 'Output/df_main2.parquet.gzip'\n",
    "output_path_2_csv = 'Output/df_main2.csv'\n",
    "df_main.to_parquet(output_path_2_parquet, compression='gzip')\n",
    "df_main.to_csv(output_path_2_csv, index=False)\n",
    "# Print output paths\n",
    "print(f'Additional data saved to {output_path_2_parquet} and {output_path_2_csv}\\n')\n",
    "# print current time and elapsed time\n",
    "end_time = datetime.now()\n",
    "print(\n",
    "    f'Save cleaned and prepared data end: {datetime.strftime(end_time, \"%H:%M:%S\")},'\n",
    "    + f' Elapsed time: {str(end_time - start_time).split(\".\")[0]}'\n",
    ")"
   ]
  },
  {
   "cell_type": "code",
   "execution_count": 23,
   "id": "392ac499",
   "metadata": {},
   "outputs": [],
   "source": [
    "# Measure columns\n",
    "measure_cols = ['INCIDENT_MONTH', 'AC_MASS', 'NUM_ENGS', 'HEIGHT', 'TIME_PERIOD_INDEX']"
   ]
  },
  {
   "cell_type": "code",
   "execution_count": 24,
   "id": "b54c9b86",
   "metadata": {},
   "outputs": [
    {
     "data": {
      "text/plain": [
       "<Axes: >"
      ]
     },
     "execution_count": 24,
     "metadata": {},
     "output_type": "execute_result"
    },
    {
     "data": {
      "image/png": "[encoded data removed]",
      "text/plain": [
       "<Figure size 1500x600 with 2 Axes>"
      ]
     },
     "metadata": {},
     "output_type": "display_data"
    }
   ],
   "source": [
    "plt.figure(figsize=(15,6))\n",
    "sns.heatmap(df_main[measure_cols].corr(), vmax=0.6, square=True, annot=True)"
   ]
  },
  {
   "cell_type": "markdown",
   "id": "3c72122c",
   "metadata": {},
   "source": [
    "AC_MASS and NUM_ENGS:\n",
    "- no surprise here - the bigger the aircraft, the more engines it is likely to have. Slightly surprised the correlation is not stronger\n",
    "\n",
    "Everything else:\n",
    "- uncorrelated"
   ]
  },
  {
   "cell_type": "code",
   "execution_count": 25,
   "id": "10a094ad",
   "metadata": {},
   "outputs": [
    {
     "data": {
      "image/png": "[encoded data removed]",
      "text/plain": [
       "<Figure size 1800x1000 with 6 Axes>"
      ]
     },
     "metadata": {},
     "output_type": "display_data"
    }
   ],
   "source": [
    "fig, axes = plt.subplots(nrows=3, ncols=2, figsize=(18, 10))\n",
    "axes = axes.flatten()\n",
    "\n",
    "for i, col in enumerate(measure_cols):\n",
    "    if pd.api.types.is_numeric_dtype(df_main[col]):\n",
    "        q1 = df_main[col].quantile(0.25)\n",
    "        q3 = df_main[col].quantile(0.75)\n",
    "        \n",
    "        sns.histplot(df_main[col], kde=True, ax=axes[i], color='skyblue', edgecolor='black')\n",
    "        axes[i].axvline(q1, color='red', linestyle='--', label=f'Q1 (25%): {q1:.2f}')\n",
    "        axes[i].axvline(q3, color='green', linestyle='--', label=f'Q3 (75%): {q3:.2f}')\n",
    "        axes[i].legend()\n",
    "        \n",
    "    else:\n",
    "        sns.countplot(\n",
    "            data=df_main, \n",
    "            x=col, \n",
    "            hue=col,       \n",
    "            ax=axes[i], \n",
    "            palette='cool', \n",
    "            edgecolor='black', \n",
    "            legend=False   \n",
    "        )   \n",
    "    axes[i].tick_params(axis='x', rotation=45)\n",
    "    axes[i].set_title(f'Distribution of {col}', fontsize=14)\n",
    "    axes[i].set_xlabel(col, fontsize=12)\n",
    "    axes[i].set_ylabel('Frequency', fontsize=12)\n",
    "\n",
    "\n",
    "plt.tight_layout()\n",
    "plt.show()"
   ]
  },
  {
   "cell_type": "code",
   "execution_count": 26,
   "id": "d44c0938",
   "metadata": {},
   "outputs": [
    {
     "name": "stdout",
     "output_type": "stream",
     "text": [
      "Elapsed from start: 0:07:16; Time: 2025-09-16 20:03:20\n"
     ]
    }
   ],
   "source": [
    "end_time = datetime.now()\n",
    "\n",
    "elapsed_time = end_time - start_time\n",
    "print (f\"Elapsed from start: {str(elapsed_time).split('.')[0]}; Time: {datetime.now().strftime(format='%Y-%m-%d %H:%M:%S')}\")"
   ]
  }
 ],
 "metadata": {
  "kernelspec": {
   "display_name": "env",
   "language": "python",
   "name": "python3"
  },
  "language_info": {
   "codemirror_mode": {
    "name": "ipython",
    "version": 3
   },
   "file_extension": ".py",
   "mimetype": "text/x-python",
   "name": "python",
   "nbconvert_exporter": "python",
   "pygments_lexer": "ipython3",
   "version": "3.10.11"
  }
 },
 "nbformat": 4,
 "nbformat_minor": 5
}
