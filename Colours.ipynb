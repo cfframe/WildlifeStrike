{
 "cells": [
  {
   "cell_type": "markdown",
   "id": "0d44aa02",
   "metadata": {},
   "source": [
    "## Colour exploration\n",
    "From idea presented by Alex in StackOverflow at https://stackoverflow.com/questions/58404270/draw-a-grid-of-colors-using-their-hex-values\n",
    "\n",
    "RGB seems to be used in two forms.\n",
    "- tuple of integers in range 0 to 255 (conventional RGB?)\n",
    "- tuple of integers in range 0 to 1.0 (seaborn)?\n",
    "\n",
    "Typical 15s from scratch (mainly loading modules)"
   ]
  },
  {
   "cell_type": "code",
   "execution_count": null,
   "id": "24508ffa",
   "metadata": {},
   "outputs": [],
   "source": [
    "import datetime\n",
    "from datetime import datetime, date, timedelta\n",
    "\n",
    "start_time = datetime.now()\n",
    "print (f'Start: {start_time}')\n",
    "\n",
    "from typing import List\n",
    "import pandas as pd\n",
    "import seaborn as sns"
   ]
  },
  {
   "cell_type": "code",
   "execution_count": null,
   "id": "43722864",
   "metadata": {},
   "outputs": [],
   "source": [
    "def apply_formatting(col, hex_colors):\n",
    "    \"\"\"Apply background-colors to pandas columns\"\"\"\n",
    "    for hex_color in hex_colors:\n",
    "        if col.name == hex_color:\n",
    "            return [f'background-color: {hex_color}' for c in col.values]\n",
    "\n",
    "def display_hex_colors(hex_colors: List[str]):\n",
    "    \"\"\"Visualize a list of hex colors using pandas\"\"\"\n",
    "    df = pd.DataFrame(hex_colors).T\n",
    "    df.columns = hex_colors\n",
    "    df.iloc[0,0:len(hex_colors)] = \"\"\n",
    "    display(df.style.apply(lambda x: apply_formatting(x, hex_colors)))"
   ]
  },
  {
   "cell_type": "code",
   "execution_count": null,
   "id": "453aa595",
   "metadata": {},
   "outputs": [],
   "source": [
    "# Original list of hex colors\n",
    "display_hex_colors([\n",
    "    '#4112a0',\n",
    "    '#1b1bef',\n",
    "    '#1fa5a6',\n",
    "    '#5fc650',\n",
    "    '#b4e742',\n",
    "    '#e9eb28',\n",
    "    '#f08622',\n",
    "    '#f06730',\n",
    "    '#d0191b',\n",
    "    '#ed008c',\n",
    "    '#b23593',\n",
    "    '#761ca2'\n",
    "])"
   ]
  },
  {
   "cell_type": "code",
   "execution_count": null,
   "id": "01544011",
   "metadata": {},
   "outputs": [],
   "source": [
    "# Remove first and last, add first as last so same at both ends\n",
    "# HOWEVER this mechanism expects unique colors, otherwise fails, so change last to a slightly different color\n",
    "display_hex_colors([\n",
    "    '#1b1bef', '#1fa5a6', '#5fc650', '#b4e742', '#e9eb28', '#f08622',\n",
    "    '#f06730', '#d0191b', '#ed008c', '#b23593', '#1b1bf0'\n",
    "])"
   ]
  },
  {
   "cell_type": "code",
   "execution_count": null,
   "id": "38638911",
   "metadata": {},
   "outputs": [],
   "source": [
    "\n",
    "def hex_to_rgb(hex_value):\n",
    "  # Convert hex to RGB tuple with values between 0 and 1\n",
    "  h = hex_value.lstrip('#')\n",
    "  return tuple(int(h[i:i + 2], 16) / 255.0 for i in (0, 2, 4))"
   ]
  },
  {
   "cell_type": "code",
   "execution_count": null,
   "id": "0ee58577",
   "metadata": {},
   "outputs": [],
   "source": [
    "# Get hex codes of intermediate colours between '#b23593' and '#1b1bf0' then display them\n",
    "base_hex_colours = ['#b23593', '#1b1bf0']\n",
    "\n",
    "intermediate_hex_colours = []\n",
    "num_intermediate_colours = 5\n",
    "for i in range(1, num_intermediate_colours + 1):\n",
    "    ratio = i / (num_intermediate_colours + 1)\n",
    "    start_rgb = hex_to_rgb(base_hex_colours[0])\n",
    "    end_rgb = hex_to_rgb(base_hex_colours[1])\n",
    "    intermediate_rgb = tuple(\n",
    "        start + (end - start) * ratio\n",
    "        for start, end in zip(start_rgb, end_rgb)\n",
    "    )\n",
    "    intermediate_hex = '#' + ''.join(f'{int(c * 255):02x}' for c in intermediate_rgb)\n",
    "    intermediate_hex_colours.append(intermediate_hex)\n",
    "display_hex_colors(intermediate_hex_colours)\n"
   ]
  },
  {
   "cell_type": "code",
   "execution_count": null,
   "id": "8d860877",
   "metadata": {},
   "outputs": [],
   "source": [
    "# Trial an intermediate 2nd last colour\n",
    "# This mechanism can handle dupliate colours, but doesn't show the hex code\n",
    "sns.set_theme()\n",
    "\n",
    "hex_colors = [\n",
    "    '#1b1bef', '#1fa5a6', '#5fc650', '#b4e742', '#e9eb28', '#f08622',\n",
    "    '#f06730', '#d0191b', '#ed008c', '#b23593', '#6628c1', '#1b1bef', \n",
    "]\n",
    "\n",
    "seaborn_rgb_colors = list(map(hex_to_rgb, hex_colors))\n",
    "sns.palplot(seaborn_rgb_colors)"
   ]
  },
  {
   "cell_type": "code",
   "execution_count": null,
   "id": "fe46bfd0",
   "metadata": {},
   "outputs": [],
   "source": [
    "end_time = datetime.now()\n",
    "\n",
    "elapsed_time = end_time - start_time\n",
    "print (f\"Elapsed from start: {str(elapsed_time).split('.')[0]}; Time: {datetime.now().strftime(format='%Y-%m-%d %H:%M:%S')}\")"
   ]
  }
 ],
 "metadata": {
  "kernelspec": {
   "display_name": "env",
   "language": "python",
   "name": "python3"
  },
  "language_info": {
   "codemirror_mode": {
    "name": "ipython",
    "version": 3
   },
   "file_extension": ".py",
   "mimetype": "text/x-python",
   "name": "python",
   "nbconvert_exporter": "python",
   "pygments_lexer": "ipython3",
   "version": "3.10.11"
  }
 },
 "nbformat": 4,
 "nbformat_minor": 5
}
